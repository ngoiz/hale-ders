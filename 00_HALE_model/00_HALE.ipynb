{
 "cells": [
  {
   "cell_type": "markdown",
   "metadata": {},
   "source": [
    "# 0) The HALE Aircraft Model Class\n",
    "\n",
    "The following Jupyter notebook will explain briefly how the HALE aircraft model class is set up and how to get it ready for a wide variety of analyses which will be explained in detail in subsequent chapters. \n",
    "\n",
    "This example will show how to manipulate the class to get the appropriate `.fem.h5` and `.aero.h5` file inputs that SHARPy needs.\n",
    "\n",
    "The HALE aircraft model is hosted in an independent repository at [http://github.com/ngoiz/model-hale](http://github.com/ngoiz/model-hale). The repo can be cloned and the variables loaded by running `source <path_to model-hale>/bin/hale_vars.sh` (just like in SHARPy).\n",
    "\n",
    "For this tutorial, it is required that you have the HALE aircraft model and SHARPy."
   ]
  },
  {
   "cell_type": "code",
   "execution_count": 1,
   "metadata": {},
   "outputs": [],
   "source": [
    "import aircraft  # This is the HALE aircraft. If ModuleNotFound, make sure you have correctly loaded the model-hale variables"
   ]
  },
  {
   "cell_type": "code",
   "execution_count": 2,
   "metadata": {},
   "outputs": [],
   "source": [
    "import numpy as np\n",
    "import sharpy.utils.algebra as algebra"
   ]
  },
  {
   "cell_type": "markdown",
   "metadata": {},
   "source": [
    "The HALE class consists of a top-level class `aircraft.Hale()` which will generate a structure (`structure.HaleStructure()`) and an aerodynamic model `aero.HaleAero()`.\n",
    "\n",
    "Let's first instantiate the top-level class, which takes a `case_name`, `cases_route` and an `output_route` as constructor arguments."
   ]
  },
  {
   "cell_type": "code",
   "execution_count": 3,
   "metadata": {},
   "outputs": [],
   "source": [
    "cases_route = './cases/'\n",
    "output_route = './output/'\n",
    "\n",
    "case_name = 'hale'\n",
    "\n",
    "hale = aircraft.Hale(case_name, cases_route, output_route)"
   ]
  },
  {
   "cell_type": "markdown",
   "metadata": {},
   "source": [
    "It is good practice to remove any previous files for the same `case_name`. This functionality is built-in with"
   ]
  },
  {
   "cell_type": "code",
   "execution_count": 8,
   "metadata": {},
   "outputs": [],
   "source": [
    "hale.clean()"
   ]
  },
  {
   "cell_type": "markdown",
   "metadata": {},
   "source": [
    "We then start by initialising the structural model. All the structural properties are defined in `structure.py` and can easily be changed. The only two parameters that need to be provided are `sigma` which is a stiffenning factor and `n_elem_multiplier` which is a multiplication factor to control how refined the model is. These can be provided through key-word arguments to the method `Hale().init_structure()`"
   ]
  },
  {
   "cell_type": "code",
   "execution_count": 9,
   "metadata": {},
   "outputs": [],
   "source": [
    "hale.init_structure(sigma=1, n_elem_multiplier=1.5)"
   ]
  },
  {
   "cell_type": "markdown",
   "metadata": {},
   "source": [
    "Let's proceed now to similarly initiate the aerodynamics. The only parameter we need to provide at this stage is the number of chordwise panels `m`."
   ]
  },
  {
   "cell_type": "code",
   "execution_count": 10,
   "metadata": {},
   "outputs": [],
   "source": [
    "hale.init_aero(m=4)"
   ]
  },
  {
   "cell_type": "markdown",
   "metadata": {},
   "source": [
    "The only remaining information that needs to go in the `.h5` files are the flight control surfaces deflections and thrust. Control surface deflections are given in `rad`."
   ]
  },
  {
   "cell_type": "code",
   "execution_count": 11,
   "metadata": {},
   "outputs": [],
   "source": [
    "hale.set_flight_controls(thrust=5, elevator=1. * np.pi / 180, rudder=0.)"
   ]
  },
  {
   "cell_type": "markdown",
   "metadata": {},
   "source": [
    "These concludes all parameters that are needed for the `.fem.h5` and `.aero.h5` files. Don't worry, a lot more info will be required for the simulations, but those params go in the simulation input file `.sharpy`. We can now proceed and generate these files which will be saved to our chosen `cases_directory`"
   ]
  },
  {
   "cell_type": "code",
   "execution_count": 12,
   "metadata": {},
   "outputs": [],
   "source": [
    "hale.generate()"
   ]
  },
  {
   "cell_type": "markdown",
   "metadata": {},
   "source": [
    "The `.h5` files have been generated. \n",
    "\n",
    "## Generating the simulation input file\n",
    "\n",
    "This is done through a dictionary and will not present any difficulty for simple simulations. More advanced analyses which will be shown later to involve more convoluted settings which will be described in detail at that time. For the moment, let's demonstrate how to parse the settings dictionary to the `hale` object and generate our `.sharpy` file to create a simple visualisation in Paraview.\n",
    "\n",
    "The simulation will consist of the HALE aircraft at a non-zero angle of attack."
   ]
  },
  {
   "cell_type": "code",
   "execution_count": 14,
   "metadata": {},
   "outputs": [],
   "source": [
    "alpha = 5 * np.pi / 180"
   ]
  },
  {
   "cell_type": "code",
   "execution_count": 21,
   "metadata": {},
   "outputs": [],
   "source": [
    "settings = {}\n",
    "\n",
    "settings['SHARPy'] = {'case': hale.case_name,\n",
    "                      'route': hale.case_route,\n",
    "                      'flow': ['BeamLoader', \n",
    "                               'AerogridLoader',\n",
    "                               'BeamPlot',\n",
    "                               'AerogridPlot'\n",
    "                              ],\n",
    "                      'write_screen': 'on',\n",
    "                      'write_log': 'on',\n",
    "                      'log_folder': hale.output_route,\n",
    "                      'log_file': hale.case_name + '.log'}"
   ]
  },
  {
   "cell_type": "markdown",
   "metadata": {},
   "source": [
    "The settings for these solvers are relatively straight forward and documented extensively in the SHARPy documentation\n",
    "and examples thus we will tackle them swiftly.\n"
   ]
  },
  {
   "cell_type": "code",
   "execution_count": 22,
   "metadata": {},
   "outputs": [],
   "source": [
    "settings['BeamLoader'] = {'unsteady': 'on',\n",
    "                              'orientation': algebra.euler2quat(np.array([0.,\n",
    "                                                                          alpha,\n",
    "                                                                          0.]))}"
   ]
  },
  {
   "cell_type": "markdown",
   "metadata": {},
   "source": [
    "\n",
    "As opposed to the earlier versions of SHARPy though, the wake is now initialised in `AerogridLoader`. Thus, despite this case just being inteded for visualisation, we are going to define the wake for which we need the free stream velocity and time step increment. For more details on the wake shape generation, please refer to [https://ic-sharpy.readthedocs.io/en/master/includes/generators/straightwake/StraightWake.html](https://ic-sharpy.readthedocs.io/en/master/includes/generators/straightwake/StraightWake.html). We will refer to this later on when we discuss cases where the CFL is not equal to one and the wake panels change in size to reduce the number of wake panels."
   ]
  },
  {
   "cell_type": "code",
   "execution_count": 26,
   "metadata": {},
   "outputs": [],
   "source": [
    "u_inf = 10\n",
    "dt = hale.aero.chord_main / hale.aero.m / u_inf  # This achieves a CFL = 1 condition\n",
    "\n",
    "settings['AerogridLoader'] = {'unsteady': 'on',\n",
    "                                  'aligned_grid': 'on',\n",
    "                                  'mstar': 10,\n",
    "                                  'wake_shape_generator': 'StraightWake',\n",
    "                                  'wake_shape_generator_input': {\n",
    "                                      'u_inf': u_inf,\n",
    "                                      'u_inf_direction': [1., 0., 0.],\n",
    "                                      'dt': dt,\n",
    "                                  },\n",
    "                                  }\n",
    "\n",
    "settings['BeamPlot'] = {}\n",
    "\n",
    "settings['AerogridPlot'] = {'include_rbm': 'off',\n",
    "                            'include_applied_forces': 'on',\n",
    "                            'minus_m_star': 0,\n",
    "                            'u_inf': u_inf\n",
    "                            }"
   ]
  },
  {
   "cell_type": "markdown",
   "metadata": {},
   "source": [
    "The settings can now be parsed to the `hale` object to generate the `.sharpy` file"
   ]
  },
  {
   "cell_type": "code",
   "execution_count": 27,
   "metadata": {},
   "outputs": [],
   "source": [
    "hale.create_settings(settings)"
   ]
  },
  {
   "cell_type": "markdown",
   "metadata": {},
   "source": [
    "If we wish to run the case from within a script rather than the command line, a `run()` method is provided."
   ]
  },
  {
   "cell_type": "code",
   "execution_count": 28,
   "metadata": {},
   "outputs": [
    {
     "name": "stdout",
     "output_type": "stream",
     "text": [
      "--------------------------------------------------------------------------------\u001b[0m\n",
      "            ######  ##     ##    ###    ########  ########  ##    ##\u001b[0m\n",
      "           ##    ## ##     ##   ## ##   ##     ## ##     ##  ##  ##\u001b[0m\n",
      "           ##       ##     ##  ##   ##  ##     ## ##     ##   ####\u001b[0m\n",
      "            ######  ######### ##     ## ########  ########     ##\u001b[0m\n",
      "                 ## ##     ## ######### ##   ##   ##           ##\u001b[0m\n",
      "           ##    ## ##     ## ##     ## ##    ##  ##           ##\u001b[0m\n",
      "            ######  ##     ## ##     ## ##     ## ##           ##\u001b[0m\n",
      "--------------------------------------------------------------------------------\u001b[0m\n",
      "Aeroelastics Lab, Aeronautics Department.\u001b[0m\n",
      "    Copyright (c), Imperial College London.\u001b[0m\n",
      "    All rights reserved.\u001b[0m\n",
      "    License available at https://github.com/imperialcollegelondon/sharpy\u001b[0m\n",
      "\u001b[36mRunning SHARPy from /home/ng213/2TB/KK_AirbusHALE/00_HALE_model\u001b[0m\n",
      "\u001b[36mSHARPy being run is in /home/ng213/2TB/KK_AirbusHALE/src/sharpy\u001b[0m\n",
      "\u001b[36mThe branch being run is dev_remove_istates\u001b[0m\n",
      "\u001b[36mThe version and commit hash are: v1.2.1-490-g6fedfb8-6fedfb8\u001b[0m\n",
      "SHARPy output folder set\u001b[0m\n",
      "\u001b[34m\t./output//hale/\u001b[0m\n",
      "\u001b[36mGenerating an instance of BeamLoader\u001b[0m\n",
      "Variable for_pos has no assigned value in the settings file.\u001b[0m\n",
      "\u001b[34m    will default to the value: [0.0, 0, 0]\u001b[0m\n",
      "\u001b[36mGenerating an instance of AerogridLoader\u001b[0m\n",
      "Variable freestream_dir has no assigned value in the settings file.\u001b[0m\n",
      "\u001b[34m    will default to the value: [1.0, 0.0, 0.0]\u001b[0m\n",
      "Variable control_surface_deflection has no assigned value in the settings file.\u001b[0m\n",
      "\u001b[34m    will default to the value: []\u001b[0m\n",
      "Variable control_surface_deflection_generator_settings has no assigned value in the settings file.\u001b[0m\n",
      "\u001b[34m    will default to the value: {}\u001b[0m\n",
      "Variable dx1 has no assigned value in the settings file.\u001b[0m\n",
      "\u001b[34m    will default to the value: -1.0\u001b[0m\n",
      "Variable ndx1 has no assigned value in the settings file.\u001b[0m\n",
      "\u001b[34m    will default to the value: 1\u001b[0m\n",
      "Variable r has no assigned value in the settings file.\u001b[0m\n",
      "\u001b[34m    will default to the value: 1.0\u001b[0m\n",
      "Variable dxmax has no assigned value in the settings file.\u001b[0m\n",
      "\u001b[34m    will default to the value: -1.0\u001b[0m\n",
      "\u001b[34mThe aerodynamic grid contains 5 surfaces\u001b[0m\n",
      "\u001b[34m  Surface 0, M=4, N=12\u001b[0m\n",
      "     Wake 0, M=10, N=12\u001b[0m\n",
      "\u001b[34m  Surface 1, M=4, N=12\u001b[0m\n",
      "     Wake 1, M=10, N=12\u001b[0m\n",
      "\u001b[34m  Surface 2, M=4, N=6\u001b[0m\n",
      "     Wake 2, M=10, N=6\u001b[0m\n",
      "\u001b[34m  Surface 3, M=4, N=6\u001b[0m\n",
      "     Wake 3, M=10, N=6\u001b[0m\n",
      "\u001b[34m  Surface 4, M=4, N=6\u001b[0m\n",
      "     Wake 4, M=10, N=6\u001b[0m\n",
      "  In total: 168 bound panels\u001b[0m\n",
      "  In total: 420 wake panels\u001b[0m\n",
      "  Total number of panels = 588\u001b[0m\n",
      "\u001b[36mGenerating an instance of BeamPlot\u001b[0m\n",
      "Variable include_rbm has no assigned value in the settings file.\u001b[0m\n",
      "\u001b[34m    will default to the value: True\u001b[0m\n",
      "Variable include_FoR has no assigned value in the settings file.\u001b[0m\n",
      "\u001b[34m    will default to the value: False\u001b[0m\n",
      "Variable include_applied_forces has no assigned value in the settings file.\u001b[0m\n",
      "\u001b[34m    will default to the value: True\u001b[0m\n",
      "Variable include_applied_moments has no assigned value in the settings file.\u001b[0m\n",
      "\u001b[34m    will default to the value: True\u001b[0m\n",
      "Variable name_prefix has no assigned value in the settings file.\u001b[0m\n",
      "\u001b[34m    will default to the value: \u001b[0m\n",
      "Variable output_rbm has no assigned value in the settings file.\u001b[0m\n",
      "\u001b[34m    will default to the value: True\u001b[0m\n",
      "\u001b[34m...Finished\u001b[0m\n",
      "\u001b[36mGenerating an instance of AerogridPlot\u001b[0m\n",
      "Variable include_forward_motion has no assigned value in the settings file.\u001b[0m\n",
      "\u001b[34m    will default to the value: False\u001b[0m\n",
      "Variable include_unsteady_applied_forces has no assigned value in the settings file.\u001b[0m\n",
      "\u001b[34m    will default to the value: False\u001b[0m\n",
      "Variable name_prefix has no assigned value in the settings file.\u001b[0m\n",
      "\u001b[34m    will default to the value: \u001b[0m\n",
      "Variable dt has no assigned value in the settings file.\u001b[0m\n",
      "\u001b[34m    will default to the value: 0.0\u001b[0m\n",
      "Variable include_velocities has no assigned value in the settings file.\u001b[0m\n",
      "\u001b[34m    will default to the value: False\u001b[0m\n",
      "Variable include_incidence_angle has no assigned value in the settings file.\u001b[0m\n",
      "\u001b[34m    will default to the value: False\u001b[0m\n",
      "Variable num_cores has no assigned value in the settings file.\u001b[0m\n",
      "\u001b[34m    will default to the value: 1\u001b[0m\n",
      "Variable vortex_radius has no assigned value in the settings file.\u001b[0m\n",
      "\u001b[34m    will default to the value: 1e-06\u001b[0m\n",
      "\u001b[34m...Finished\u001b[0m\n",
      "\u001b[36mFINISHED - Elapsed time = 0.1984576 seconds\u001b[0m\n",
      "\u001b[36mFINISHED - CPU process time = 0.6373726 seconds\u001b[0m\n"
     ]
    }
   ],
   "source": [
    "hale.run()"
   ]
  },
  {
   "cell_type": "markdown",
   "metadata": {},
   "source": [
    "The resulting output files are located in the output folder"
   ]
  }
 ],
 "metadata": {
  "kernelspec": {
   "display_name": "Python 3",
   "language": "python",
   "name": "python3"
  },
  "language_info": {
   "codemirror_mode": {
    "name": "ipython",
    "version": 3
   },
   "file_extension": ".py",
   "mimetype": "text/x-python",
   "name": "python",
   "nbconvert_exporter": "python",
   "pygments_lexer": "ipython3",
   "version": "3.7.5"
  }
 },
 "nbformat": 4,
 "nbformat_minor": 4
}
